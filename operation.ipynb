{
 "cells": [
  {
   "cell_type": "markdown",
   "metadata": {},
   "source": [
    "# AI Writing Assistant: In-Depth Search\n",
    "\n",
    "**Needs**\n",
    "1. Virtual environment named `story`.\n",
    "2. `Ollama` running in the background.\n",
    "3. All dependencies listed in `requirements.txt` installed."
   ]
  },
  {
   "cell_type": "code",
   "execution_count": 1,
   "metadata": {},
   "outputs": [],
   "source": [
    "from langchain_chroma import Chroma\n",
    "from langchain_huggingface import HuggingFaceEmbeddings\n",
    "from langchain_ollama.llms import OllamaLLM\n",
    "from langchain_core.prompts import PromptTemplate\n",
    "from langchain_core.runnables import RunnablePassthrough\n",
    "from langchain_core.output_parsers import StrOutputParser\n",
    "from colorama import Fore, Style"
   ]
  },
  {
   "cell_type": "markdown",
   "metadata": {},
   "source": [
    "## Configuration"
   ]
  },
  {
   "cell_type": "code",
   "execution_count": 2,
   "metadata": {},
   "outputs": [],
   "source": [
    "PROMPT = \"Write a short tutorial on how to use git rebase.\"\n",
    "\n",
    "DB_PATH = \"db\"\n",
    "EMBEDDING_MODEL = \"sentence-transformers/all-MiniLM-L6-v2\"\n",
    "LLM_MODEL = \"qwen3:4b\" # model installed in Ollama"
   ]
  },
  {
   "cell_type": "markdown",
   "metadata": {},
   "source": [
    "## Knowledge Base"
   ]
  },
  {
   "cell_type": "code",
   "execution_count": 3,
   "metadata": {},
   "outputs": [
    {
     "data": {
      "text/plain": [
       "HuggingFaceEmbeddings(model_name='sentence-transformers/all-MiniLM-L6-v2', cache_folder=None, model_kwargs={}, encode_kwargs={}, query_encode_kwargs={}, multi_process=False, show_progress=False)"
      ]
     },
     "execution_count": 3,
     "metadata": {},
     "output_type": "execute_result"
    }
   ],
   "source": [
    "embeddings = HuggingFaceEmbeddings(model_name=EMBEDDING_MODEL)\n",
    "vector_store = Chroma(persist_directory=DB_PATH, embedding_function=embeddings)\n",
    "\n",
    "embeddings"
   ]
  },
  {
   "cell_type": "code",
   "execution_count": 4,
   "metadata": {},
   "outputs": [
    {
     "name": "stdout",
     "output_type": "stream",
     "text": [
      "Vector Store Type:  <class 'langchain_chroma.vectorstores.Chroma'>\n",
      "\n",
      "\u001b[35mMetadata:\u001b[0m \u001b[36m{'source': 'blogs\\\\2023-02-19-Useful_Keyboard_shortcuts_in_Jupyter_Notebook\\\\story.md'}\u001b[0m\n",
      "\n",
      "\u001b[35mContent:\u001b[0m \u001b[32mslug: jupyter-notebook-keyboard-shortcuts title: \"Useful Keyboard shortcuts in Jupyter Notebook\" authors: [ajay] tags: [jupyter-notebook]\n",
      "\n",
      "Read on Medium\n",
      "\n",
      "How to work faster in jupyter notebooks — the answer is Keyboard shortcuts.\n",
      "\n",
      "Keyboard shortcuts are a great way to do digital work faster, when it comes to programming it’s more relevant. With this article, I am sharing some of my daily keyboard shortcuts while using jupyter notebook.\n",
      "\n",
      "Jupyter Notebook is a powerful python code editor which can be installed on your local machine and works in the browser. I have been coding with jupyter notebook for about two years now and using a keyboard shortcut from the first week itself (i like to do things without touching the mouse, it seems more professional 😄)\n",
      "\n",
      "You can always read more about jupyter notebook on Wikipedia\n",
      "\n",
      "The interface of a new jupyter notebook\n",
      "\n",
      "The interface of a new jupyter notebook\u001b[0m\n"
     ]
    }
   ],
   "source": [
    "print(\"Vector Store Type: \", type(vector_store))\n",
    "\n",
    "item = vector_store.similarity_search('Jupyter')[0]\n",
    "metadata = item.metadata\n",
    "page_content = item.page_content\n",
    "\n",
    "print(f\"\\n{Fore.MAGENTA}Metadata:{Style.RESET_ALL} {Fore.CYAN}{metadata}{Style.RESET_ALL}\\n\")\n",
    "\n",
    "print(f\"{Fore.MAGENTA}Content:{Style.RESET_ALL} {Fore.GREEN}{page_content}{Style.RESET_ALL}\")"
   ]
  },
  {
   "cell_type": "markdown",
   "metadata": {},
   "source": [
    "## Retriever"
   ]
  },
  {
   "cell_type": "code",
   "execution_count": 5,
   "metadata": {},
   "outputs": [
    {
     "data": {
      "text/plain": [
       "VectorStoreRetriever(tags=['Chroma', 'HuggingFaceEmbeddings'], vectorstore=<langchain_chroma.vectorstores.Chroma object at 0x7f8c49242810>, search_kwargs={'k': 2})"
      ]
     },
     "execution_count": 5,
     "metadata": {},
     "output_type": "execute_result"
    }
   ],
   "source": [
    "retriever = vector_store.as_retriever(search_kwargs={\"k\": 2}) # retrieving 2 chunks\n",
    "retriever"
   ]
  },
  {
   "cell_type": "code",
   "execution_count": 6,
   "metadata": {},
   "outputs": [
    {
     "name": "stdout",
     "output_type": "stream",
     "text": [
      "Retrieved 2 documents for the prompt: 'Write a short tutorial on how to use git rebase.'\n",
      "\u001b[35m\n",
      "--- Retrieved Document 1 ---\n",
      "\u001b[0m\n",
      "Source: blogs\\2025-05-04-Bash_to_Fish_A_Terminal_Change\\story.md\n",
      "\n",
      "\u001b[36m```\n",
      "\n",
      "Locating Conda Bin directory (left)\n",
      "\n",
      "Setting path to that directory (right)\n",
      "\n",
      "Locating Conda Bin directory (left); Setting path to that directory (right)\n",
      "\n",
      "Finally\n",
      "\n",
      "Switching to fish didn’t feel like changing my workflow. It just removed friction. I still run the same commands, ssh into the same servers, and activate the same environments. But now I do it faster, with fewer typos, and less mental overhead. If you use the terminal for most of your work, give Fish a try. You’ll know by then whether it’s for you or not. For me, I’ve already made it my default shell at home and work.\n",
      "\n",
      "Now I am looking forward to more possibilities of Fish, an upgrade to the terminal code editor (currently using nano).\n",
      "\n",
      "So that's it. Thank you for reading!\u001b[0m\n",
      "\n",
      "---------------------------\n",
      "\n",
      "\u001b[35m\n",
      "--- Retrieved Document 2 ---\n",
      "\u001b[0m\n",
      "Source: blogs\\2024-03-29-How_to_make_a_Virtual_Environment_in_Python_Windows\\story.md\n",
      "\n",
      "\u001b[36mslug: venv-python title: \"How to make a Virtual Environment in Python (Windows)\" authors: [ajay] tags: [windows, venv, python]\n",
      "\n",
      "Read on Medium\n",
      "\n",
      "Python’s Virtual Environment(venv) is a self-contained directory tree that contains a Python installation for a particular version of Python, with several additional packages.\n",
      "\n",
      "It’s uses:\n",
      "\n",
      "Manage dependencies for different projects by creating isolated spaces.\n",
      "\n",
      "Maintain different versions of Python libraries and Python itself.\n",
      "\n",
      "Separate requirements (python version and library versions) of each project, without conflicts.\n",
      "\n",
      "Be informed: You can either use pip(command line) or data science packages like Anaconda to run Python in your system, here I am using pip.\n",
      "\n",
      "Overview of making a venv\n",
      "\n",
      "Find a location\n",
      "\n",
      "Open the Terminal of that folder\n",
      "\n",
      "Typing the venv creation command\n",
      "\n",
      "Activate the environment\n",
      "\n",
      "1. Find the location\n",
      "\n",
      "Go to a suitable location on your computer. In this tutorial, I am making the venv in the Local Disk D.\u001b[0m\n",
      "\n",
      "---------------------------\n",
      "\n"
     ]
    }
   ],
   "source": [
    "retrieved_docs = retriever.invoke(PROMPT)\n",
    "\n",
    "print(f\"Retrieved {len(retrieved_docs)} documents for the prompt: '{PROMPT}'\")\n",
    "\n",
    "for i, doc in enumerate(retrieved_docs):\n",
    "    print(f\"{Fore.MAGENTA}\\n--- Retrieved Document {i+1} ---\\n{Style.RESET_ALL}\")\n",
    "    print(f\"Source: {doc.metadata.get('source', 'N/A')}\\n\")\n",
    "    print(f\"{Fore.CYAN}{doc.page_content}{Style.RESET_ALL}\")\n",
    "    print(\"\\n---------------------------\\n\")"
   ]
  },
  {
   "cell_type": "code",
   "execution_count": null,
   "metadata": {},
   "outputs": [],
   "source": []
  }
 ],
 "metadata": {
  "kernelspec": {
   "display_name": "story",
   "language": "python",
   "name": "story"
  },
  "language_info": {
   "codemirror_mode": {
    "name": "ipython",
    "version": 3
   },
   "file_extension": ".py",
   "mimetype": "text/x-python",
   "name": "python",
   "nbconvert_exporter": "python",
   "pygments_lexer": "ipython3",
   "version": "3.11.13"
  }
 },
 "nbformat": 4,
 "nbformat_minor": 4
}
